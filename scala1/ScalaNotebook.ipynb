{
 "cells": [
  {
   "cell_type": "markdown",
   "metadata": {},
   "source": [
    "# Scala Basic Syntax"
   ]
  },
  {
   "cell_type": "markdown",
   "metadata": {},
   "source": [
    "## Comments"
   ]
  },
  {
   "cell_type": "code",
   "execution_count": 26,
   "metadata": {},
   "outputs": [],
   "source": [
    "// This is a one-line comment.\n",
    "\n",
    "\n",
    "/*\n",
    "This is\n",
    "a multiline comments\n",
    " */"
   ]
  },
  {
   "cell_type": "markdown",
   "metadata": {},
   "source": [
    "## Conventions"
   ]
  },
  {
   "cell_type": "code",
   "execution_count": 27,
   "metadata": {},
   "outputs": [],
   "source": [
    "/*\n",
    "- class MyPerson\n",
    "- object MyPerson\n",
    "- package com.my.packagename\n",
    "- def myFunction\n",
    "- val and var: val myValue, var myVariable\n",
    "- static constants: val MyConstant\n",
    "- Generic variables starts with A, then B, and so on\n",
    "- Dont specify type if it is trivial: val name = \"Bob\"\n",
    "- Curly braces should be at the same line as the function\n",
    "- functions should have one space in between\n",
    "- val and var should have no space in between\n",
    "*/"
   ]
  },
  {
   "cell_type": "markdown",
   "metadata": {},
   "source": [
    "## Data Types"
   ]
  },
  {
   "cell_type": "code",
   "execution_count": 35,
   "metadata": {},
   "outputs": [],
   "source": [
    "/*\n",
    "- Byte, Short, Int, Long\n",
    "- Float, Double\n",
    "- Char, String\n",
    "- Boolean\n",
    "- Unit: means \"The same as VOID in Java\"\n",
    "- Null: mean \"no reference\"\n",
    "- Nothing: subtype of all types. It can be used in functions to return a non normal value\n",
    "- Any: The supertype of any type.\n",
    "- AnyRef: The supertype of any reference type.\n",
    "*/"
   ]
  },
  {
   "cell_type": "code",
   "execution_count": 36,
   "metadata": {},
   "outputs": [
    {
     "data": {
      "text/plain": [
       "myByte: Byte = 127\n",
       "myShort: Short = 32767\n",
       "myInt: Int = 2147483647\n",
       "myLong: Long = 9223372036854775807\n",
       "myFloat: Float = 3.14\n",
       "myDouble: Double = 3.14\n",
       "myChar: Char = A\n",
       "myString: String = ABC\n",
       "myBoolean: Boolean = true\n",
       "myNull: Null = null\n",
       "myAny: Any = This can be any type\n",
       "myAnyRef: AnyRef = This can be any reference type\n"
      ]
     },
     "execution_count": 36,
     "metadata": {},
     "output_type": "execute_result"
    }
   ],
   "source": [
    "val myByte: Byte = 127\n",
    "val myShort: Short = 32767\n",
    "val myInt: Int = 2147483647\n",
    "val myLong: Long = 9223372036854775807L\n",
    "val myFloat: Float = 3.14F\n",
    "val myDouble: Double = 3.14\n",
    "val myChar: Char = 'A'\n",
    "val myString: String = \"ABC\"\n",
    "val myBoolean: Boolean = true\n",
    "val myNull: Null = null\n",
    "val myAny: Any = \"This can be any type\"\n",
    "val myAnyRef: AnyRef = \"This can be any reference type\" // This works since String is an object with a reference."
   ]
  },
  {
   "cell_type": "markdown",
   "metadata": {},
   "source": [
    "## Variables"
   ]
  },
  {
   "cell_type": "code",
   "execution_count": 37,
   "metadata": {},
   "outputs": [
    {
     "data": {
      "text/plain": [
       "x: Int = 20\n",
       "x: Int = 20\n"
      ]
     },
     "execution_count": 37,
     "metadata": {},
     "output_type": "execute_result"
    }
   ],
   "source": [
    "var x = 10\n",
    "x = 20"
   ]
  },
  {
   "cell_type": "markdown",
   "metadata": {},
   "source": [
    "## Constants"
   ]
  },
  {
   "cell_type": "code",
   "execution_count": 38,
   "metadata": {},
   "outputs": [
    {
     "data": {
      "text/plain": [
       "y: Int = 20\n"
      ]
     },
     "execution_count": 38,
     "metadata": {},
     "output_type": "execute_result"
    }
   ],
   "source": [
    "val y = 20\n",
    "// y = 30  (This is not allowed)"
   ]
  },
  {
   "cell_type": "code",
   "execution_count": null,
   "metadata": {},
   "outputs": [],
   "source": []
  },
  {
   "cell_type": "code",
   "execution_count": null,
   "metadata": {},
   "outputs": [],
   "source": []
  },
  {
   "cell_type": "code",
   "execution_count": null,
   "metadata": {},
   "outputs": [],
   "source": []
  },
  {
   "cell_type": "code",
   "execution_count": 19,
   "metadata": {},
   "outputs": [],
   "source": [
    "\n",
    "\n",
    "\n",
    "    \n",
    "\n",
    "\n",
    "    // variables\n",
    "    \n",
    "\n",
    "\n",
    "    // constants\n",
    "    \n",
    "\n",
    "\n",
    "    // if, else if, else\n",
    "    if (x > 5) {\n",
    "      //...\n",
    "    } else if (x > 0) {\n",
    "      //...\n",
    "    } else {\n",
    "      //...\n",
    "    }\n",
    "\n",
    "\n",
    "    // function\n",
    "    def myFunction(x1: Int, x2: String): Int = {\n",
    "      // ...\n",
    "      1\n",
    "    }\n",
    "\n",
    "\n",
    "    // function as val\n",
    "    val myValFunc = {(i: Int) => i % 2 == 0}\n",
    "\n",
    "\n",
    "    // Lists\n",
    "    /*\n",
    "    print(p._1)\n",
    "\n",
    "    same as:\n",
    "\n",
    "    val (firstName,_ ) = p\n",
    "    print(firstName)\n",
    "    */\n",
    "\n",
    "\n",
    "    // functions one-line\n",
    "    \n",
    "\n",
    "\n",
    "    // function call\n",
    "\n",
    "\n",
    "    // function call with nothing\n",
    "\n",
    "    // nested functions\n",
    "\n",
    "    // Lambda function\n",
    "\n",
    "    // for\n",
    "\n",
    "    // while\n",
    "\n",
    "    // object vs class\n",
    "\n",
    "    // case object\n",
    "    \n",
    "    // case class\n",
    "\n",
    "    // class\n",
    "\n",
    "    // constructor\n",
    "\n",
    "    // multiple constructors\n",
    "\n",
    "    // functions with same name\n",
    "\n",
    "    // interface\n",
    "\n",
    "    // trait?\n",
    "\n",
    "    // subclass\n",
    "\n",
    "    // Generic parameters\n",
    "\n",
    "    // Map, Filter, Reduce\n",
    "    /*\n",
    "    x.filter(_ < _)\n",
    "    same as:\n",
    "    x.filter{ case (x, y) =>  x < y}\n",
    "\n",
    "    x.map(v => hello(v))\n",
    "    */\n",
    "\n",
    "    /// Implicit"
   ]
  },
  {
   "cell_type": "code",
   "execution_count": null,
   "metadata": {},
   "outputs": [],
   "source": []
  },
  {
   "cell_type": "code",
   "execution_count": null,
   "metadata": {},
   "outputs": [],
   "source": []
  }
 ],
 "metadata": {
  "kernelspec": {
   "display_name": "spylon-kernel",
   "language": "scala",
   "name": "spylon-kernel"
  },
  "language_info": {
   "codemirror_mode": "text/x-scala",
   "file_extension": ".scala",
   "help_links": [
    {
     "text": "MetaKernel Magics",
     "url": "https://metakernel.readthedocs.io/en/latest/source/README.html"
    }
   ],
   "mimetype": "text/x-scala",
   "name": "scala",
   "pygments_lexer": "scala",
   "version": "0.4.1"
  }
 },
 "nbformat": 4,
 "nbformat_minor": 4
}
